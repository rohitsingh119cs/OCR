{
  "nbformat": 4,
  "nbformat_minor": 0,
  "metadata": {
    "colab": {
      "name": "Pointintersection.ipynb",
      "provenance": [],
      "collapsed_sections": [],
      "authorship_tag": "ABX9TyMkFsktFEr44RaSciSGAaMw",
      "include_colab_link": true
    },
    "kernelspec": {
      "name": "python3",
      "display_name": "Python 3"
    }
  },
  "cells": [
    {
      "cell_type": "markdown",
      "metadata": {
        "id": "view-in-github",
        "colab_type": "text"
      },
      "source": [
        "<a href=\"https://colab.research.google.com/github/rohitsingh119cs/OCR/blob/master/Pointintersection.ipynb\" target=\"_parent\"><img src=\"https://colab.research.google.com/assets/colab-badge.svg\" alt=\"Open In Colab\"/></a>"
      ]
    },
    {
      "cell_type": "code",
      "metadata": {
        "id": "xBfZ36_RFFMD",
        "colab_type": "code",
        "colab": {
          "base_uri": "https://localhost:8080/",
          "height": 282
        },
        "outputId": "27a9b7ed-db09-48be-ef8a-a4afdb279e95"
      },
      "source": [
        "# Check the point above or below or on the line segment\n",
        "\n",
        "from matplotlib import pyplot as plt\n",
        "# Person Point in a Plane\n",
        "px1,py1=6,4\n",
        "\n",
        "# Door Line Segment cordinates \n",
        "lx1,ly1=5,5\n",
        "lx2,ly2=5,10\n",
        "\n",
        "# Drawing point and Line Segment in the Graph\n",
        "plt.text(px1,py1,'Person')\n",
        "plt.scatter(px1,py1,c='red')\n",
        "plt.text(lx1,ly1,'L1')\n",
        "plt.text(lx2,ly2,'L2')\n",
        "plt.plot([lx1,lx2],[ly1,ly2])\n",
        "plt.show()\n",
        "\n",
        "# Now Finding a point is below or above line segment \n",
        "v1 = (lx2-lx1, ly2-ly1)   # Vector 1\n",
        "v2 = (lx2-px1, ly2-py1)   # Vector 1\n",
        "xp = v1[0]*v2[1] - v1[1]*v2[0]  # Cross product\n",
        "if xp > 0:\n",
        "    print('Person on the down side')\n",
        "elif xp < 0:\n",
        "    print('Person on the up side')\n",
        "else:\n",
        "    print('Person on the line!')\n",
        "\n"
      ],
      "execution_count": null,
      "outputs": [
        {
          "output_type": "display_data",
          "data": {
            "image/png": "[encoded data removed]",
            "text/plain": [
              "<Figure size 432x288 with 1 Axes>"
            ]
          },
          "metadata": {
            "tags": [],
            "needs_background": "light"
          }
        },
        {
          "output_type": "stream",
          "text": [
            "Person on the down side\n"
          ],
          "name": "stdout"
        }
      ]
    }
  ]
}